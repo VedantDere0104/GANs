{
  "nbformat": 4,
  "nbformat_minor": 0,
  "metadata": {
    "colab": {
      "name": "Progressive_Growing_GAN's.ipynb",
      "provenance": [],
      "collapsed_sections": [],
      "authorship_tag": "ABX9TyM5YE1rmrXO2pWmLGODiHom",
      "include_colab_link": true
    },
    "kernelspec": {
      "name": "python3",
      "display_name": "Python 3"
    }
  },
  "cells": [
    {
      "cell_type": "markdown",
      "metadata": {
        "id": "view-in-github",
        "colab_type": "text"
      },
      "source": [
        "<a href=\"https://colab.research.google.com/github/VedantDere0104/GANs/blob/main/Progressive_Growing_GAN's.ipynb\" target=\"_parent\"><img src=\"https://colab.research.google.com/assets/colab-badge.svg\" alt=\"Open In Colab\"/></a>"
      ]
    },
    {
      "cell_type": "markdown",
      "metadata": {
        "id": "GGLFEGrPtd_K"
      },
      "source": [
        "Progressive Growing of GANs for Improved Quality, Stability, and Variation :- https://arxiv.org/abs/1710.10196"
      ]
    },
    {
      "cell_type": "code",
      "metadata": {
        "id": "2PKmOW7VmEGq"
      },
      "source": [
        "####"
      ],
      "execution_count": 1,
      "outputs": []
    },
    {
      "cell_type": "code",
      "metadata": {
        "id": "qzR4kKgaMpcA"
      },
      "source": [
        "import tensorflow as tf\r\n",
        "from tensorflow import keras\r\n",
        "import numpy as np"
      ],
      "execution_count": 89,
      "outputs": []
    },
    {
      "cell_type": "code",
      "metadata": {
        "id": "EteyMndyOZ7L"
      },
      "source": [
        "class First_layer(tf.keras.layers.Layer):\r\n",
        "  def __init__(self , n_filters):\r\n",
        "    super(First_layer , self).__init__()\r\n",
        "\r\n",
        "    self.conv1 = tf.keras.layers.Conv2D(n_filters , (4 , 4) , padding='same')\r\n",
        "    self.conv2 = tf.keras.layers.Conv2D(n_filters , (3 , 3) , padding='same' )\r\n",
        "    self.lrelu = tf.keras.layers.LeakyReLU()\r\n",
        "\r\n",
        "  def call(self , x):\r\n",
        "    x = self.conv1(x)\r\n",
        "    x = self.lrelu(x)\r\n",
        "    x = self.conv2(x)\r\n",
        "    x = self.lrelu(x)\r\n",
        "\r\n",
        "    return x"
      ],
      "execution_count": 3,
      "outputs": []
    },
    {
      "cell_type": "code",
      "metadata": {
        "id": "Ms81IW8mP3u8"
      },
      "source": [
        "z = np.random.rand(1 , 4 , 4 , 512)"
      ],
      "execution_count": 4,
      "outputs": []
    },
    {
      "cell_type": "code",
      "metadata": {
        "colab": {
          "base_uri": "https://localhost:8080/"
        },
        "id": "E4QWRI37P3GQ",
        "outputId": "6655ee48-be06-4dc1-f1a3-38506cbf4d6c"
      },
      "source": [
        "convT = tf.keras.layers.Conv2DTranspose(512 , (2 , 2) , strides=(2 , 2))(z)\r\n",
        "convT.shape"
      ],
      "execution_count": 5,
      "outputs": [
        {
          "output_type": "execute_result",
          "data": {
            "text/plain": [
              "TensorShape([1, 8, 8, 512])"
            ]
          },
          "metadata": {
            "tags": []
          },
          "execution_count": 5
        }
      ]
    },
    {
      "cell_type": "code",
      "metadata": {
        "id": "2O9Evb_QPLqS"
      },
      "source": [
        "class Upsample(tf.keras.layers.Layer):\r\n",
        "  def __init__(self , n_filters):\r\n",
        "    super(Upsample , self).__init__()\r\n",
        "\r\n",
        "    self.convT = tf.keras.layers.Conv2DTranspose(n_filters , (2 , 2) , strides=(2 , 2))\r\n",
        "    self.lrelu = tf.keras.layers.LeakyReLU()\r\n",
        "\r\n",
        "  def call(self , x):\r\n",
        "    x = self.convT(x)\r\n",
        "    x = self.lrelu(x)\r\n",
        "    return x"
      ],
      "execution_count": 6,
      "outputs": []
    },
    {
      "cell_type": "code",
      "metadata": {
        "id": "ZxiHqwcmQyOZ"
      },
      "source": [
        "class Conv(tf.keras.layers.Layer):\r\n",
        "  def __init__(self , n_filters):\r\n",
        "    super(Conv , self).__init__()\r\n",
        "\r\n",
        "    self.conv1 = tf.keras.layers.Conv2D(n_filters , (3 , 3) , strides=(1 , 1) , padding='same')\r\n",
        "    self.lrelu = tf.keras.layers.LeakyReLU()\r\n",
        "    self.conv2 = tf.keras.layers.Conv2D(n_filters , (3 , 3) , strides=(1 , 1) , padding='same')\r\n",
        "\r\n",
        "  def call(self , x):\r\n",
        "    x = self.conv1(x)\r\n",
        "    x = self.lrelu(x)\r\n",
        "    x = self.conv2(x)\r\n",
        "    x = self.lrelu(x)\r\n",
        "    return x"
      ],
      "execution_count": 7,
      "outputs": []
    },
    {
      "cell_type": "code",
      "metadata": {
        "colab": {
          "base_uri": "https://localhost:8080/"
        },
        "id": "ivzFRLaHT91A",
        "outputId": "c2f95154-6c08-41e2-d14c-ad6c4461d575"
      },
      "source": [
        "x = Upsample(512)(z)\r\n",
        "print(x.shape)\r\n",
        "x = Conv(512)(x)\r\n",
        "x.shape"
      ],
      "execution_count": 8,
      "outputs": [
        {
          "output_type": "stream",
          "text": [
            "(1, 8, 8, 512)\n"
          ],
          "name": "stdout"
        },
        {
          "output_type": "execute_result",
          "data": {
            "text/plain": [
              "TensorShape([1, 8, 8, 512])"
            ]
          },
          "metadata": {
            "tags": []
          },
          "execution_count": 8
        }
      ]
    },
    {
      "cell_type": "code",
      "metadata": {
        "id": "a9Qh1Q64Rn-b"
      },
      "source": [
        "class Middle_layer(tf.keras.layers.Layer):\r\n",
        "  def __init__(self , n_filters):\r\n",
        "    super(Middle_layer , self).__init__()\r\n",
        "\r\n",
        "    self.upsample = Upsample(n_filters)\r\n",
        "    self.conv = Conv(n_filters)\r\n",
        "\r\n",
        "  def call(self , x):\r\n",
        "    x = self.upsample(x)\r\n",
        "    x = self.conv(x)\r\n",
        "    return x"
      ],
      "execution_count": 9,
      "outputs": []
    },
    {
      "cell_type": "code",
      "metadata": {
        "id": "LrwQS_qURwg5"
      },
      "source": [
        "class Generator(tf.keras.layers.Layer):\r\n",
        "  def __init__(self , n_filters):\r\n",
        "    super(Generator , self).__init__()\r\n",
        "\r\n",
        "    self.first_layer = First_layer(n_filters)\r\n",
        "    self.middle_layer1 = Middle_layer(n_filters)\r\n",
        "    self.middle_layer2 = Middle_layer(n_filters)\r\n",
        "    self.middle_layer3 = Middle_layer(n_filters)\r\n",
        "    n_filters = n_filters // 2\r\n",
        "    self.middle_layer4 = Middle_layer(n_filters)\r\n",
        "    n_filters = n_filters // 2\r\n",
        "    self.middle_layer5 = Middle_layer(n_filters)\r\n",
        "    n_filters = n_filters // 2\r\n",
        "    self.middle_layer6 = Middle_layer(n_filters)\r\n",
        "    n_filters = n_filters // 2\r\n",
        "    self.middle_layer7 = Middle_layer(n_filters)\r\n",
        "    n_filters = n_filters // 2\r\n",
        "    self.middle_layer8 = Middle_layer(n_filters)\r\n",
        "    self.last_layer = tf.keras.layers.Conv2D(3 , (1 , 1) , strides=(1 , 1) , padding='same')\r\n",
        "\r\n",
        "  def call(self , x):\r\n",
        "    x = self.first_layer(x)\r\n",
        "    x = self.middle_layer1(x)\r\n",
        "    x = self.middle_layer2(x)\r\n",
        "    x = self.middle_layer3(x)\r\n",
        "    x = self.middle_layer4(x)\r\n",
        "    x = self.middle_layer5(x)\r\n",
        "    x = self.middle_layer6(x)\r\n",
        "    x = self.middle_layer7(x)\r\n",
        "    x = self.middle_layer8(x)\r\n",
        "    x = self.last_layer(x)\r\n",
        "    return x"
      ],
      "execution_count": 10,
      "outputs": []
    },
    {
      "cell_type": "code",
      "metadata": {
        "id": "8Pxi8c4yThxa"
      },
      "source": [
        "generator = Generator(512)"
      ],
      "execution_count": 11,
      "outputs": []
    },
    {
      "cell_type": "code",
      "metadata": {
        "colab": {
          "base_uri": "https://localhost:8080/"
        },
        "id": "wd83CwR3Tmft",
        "outputId": "f594b32e-38aa-487c-c2b1-e0a65e1d358d"
      },
      "source": [
        "g = generator(z)\r\n",
        "g.shape"
      ],
      "execution_count": 12,
      "outputs": [
        {
          "output_type": "execute_result",
          "data": {
            "text/plain": [
              "TensorShape([1, 1024, 1024, 3])"
            ]
          },
          "metadata": {
            "tags": []
          },
          "execution_count": 12
        }
      ]
    },
    {
      "cell_type": "code",
      "metadata": {
        "id": "QzvqvvxTTp5c",
        "colab": {
          "base_uri": "https://localhost:8080/"
        },
        "outputId": "50c52af9-145e-41be-f41a-f1a89c235af3"
      },
      "source": [
        "img = np.random.randn(1 , 1024 , 1024 , 3)\r\n",
        "d1 = tf.keras.layers.Conv2D(16 , (1 , 1) , strides=(1 , 1))(img)\r\n",
        "d2 = tf.keras.layers.Conv2D(16 , (3 , 3) , strides=(1 , 1) , padding='same')(d1)\r\n",
        "d2.shape"
      ],
      "execution_count": 13,
      "outputs": [
        {
          "output_type": "execute_result",
          "data": {
            "text/plain": [
              "TensorShape([1, 1024, 1024, 16])"
            ]
          },
          "metadata": {
            "tags": []
          },
          "execution_count": 13
        }
      ]
    },
    {
      "cell_type": "code",
      "metadata": {
        "id": "ZQ-GiVEsbVH1"
      },
      "source": [
        "class Downsample(tf.keras.layers.Layer):\r\n",
        "  def __init__(self , n_filters):\r\n",
        "    super(Downsample , self).__init__()\r\n",
        "\r\n",
        "    self.conv1 = tf.keras.layers.Conv2D(n_filters , (3 , 3) , strides=(2 , 2) , padding='same')\r\n",
        "    self.lrelu = tf.keras.layers.LeakyReLU()\r\n",
        "  def call(self , x):\r\n",
        "    return self.lrelu(self.conv1(x))\r\n"
      ],
      "execution_count": 14,
      "outputs": []
    },
    {
      "cell_type": "code",
      "metadata": {
        "colab": {
          "base_uri": "https://localhost:8080/"
        },
        "id": "F2ADNc_ybnyU",
        "outputId": "06666ba1-9487-4e54-d949-2fa16efaee65"
      },
      "source": [
        "downsample = Downsample(32)\r\n",
        "d3 = downsample(d2)\r\n",
        "d3.shape"
      ],
      "execution_count": 15,
      "outputs": [
        {
          "output_type": "execute_result",
          "data": {
            "text/plain": [
              "TensorShape([1, 512, 512, 32])"
            ]
          },
          "metadata": {
            "tags": []
          },
          "execution_count": 15
        }
      ]
    },
    {
      "cell_type": "code",
      "metadata": {
        "id": "1oC5xC_9U_6b"
      },
      "source": [
        "class Disc_first_layer(tf.keras.layers.Layer):\r\n",
        "  def __init__(self , n_filters):\r\n",
        "    super(Disc_first_layer , self).__init__()\r\n",
        "\r\n",
        "    self.conv1 = tf.keras.layers.Conv2D(n_filters , (1 , 1) , strides=(1 , 1) , padding='same')\r\n",
        "    self.conv2 = tf.keras.layers.Conv2D(n_filters , (3 , 3) , strides=(1 , 1) , padding='same')\r\n",
        "    self.conv3 = tf.keras.layers.Conv2D(n_filters * 2 , (3 , 3) , strides=(1 , 1) , padding='same')\r\n",
        "    self.downsample = Downsample(n_filters * 2)\r\n",
        "    self.lrelu = tf.keras.layers.LeakyReLU()\r\n",
        "\r\n",
        "  def call(self , x):\r\n",
        "    x = self.lrelu(self.conv1(x))\r\n",
        "    x = self.lrelu(self.conv2(x))\r\n",
        "    x = self.lrelu(self.conv3(x))\r\n",
        "    x = self.downsample(x)\r\n",
        "    return x\r\n"
      ],
      "execution_count": 16,
      "outputs": []
    },
    {
      "cell_type": "code",
      "metadata": {
        "colab": {
          "base_uri": "https://localhost:8080/"
        },
        "id": "FBQY770qcFGx",
        "outputId": "d1e457d1-1582-4b15-9f82-a2063b3ca94d"
      },
      "source": [
        "first_layer = Disc_first_layer(16)\r\n",
        "d = first_layer(img)\r\n",
        "d.shape"
      ],
      "execution_count": 18,
      "outputs": [
        {
          "output_type": "execute_result",
          "data": {
            "text/plain": [
              "TensorShape([1, 512, 512, 32])"
            ]
          },
          "metadata": {
            "tags": []
          },
          "execution_count": 18
        }
      ]
    },
    {
      "cell_type": "code",
      "metadata": {
        "id": "iRc-Rj5ncMmT"
      },
      "source": [
        "class Middle_layer(tf.keras.layers.Layer):\r\n",
        "  def __init__(self , n_filters):\r\n",
        "    super(Middle_layer , self).__init__()\r\n",
        "\r\n",
        "    self.conv1 = tf.keras.layers.Conv2D(n_filters //2 ,(3 , 3) , strides=(1 , 1) , padding='same')\r\n",
        "    self.conv2 = tf.keras.layers.Conv2D(n_filters , (3 , 3) , strides=(1 , 1) , padding='same')\r\n",
        "    self.downsample = Downsample(n_filters)\r\n",
        "    self.lrelu = tf.keras.layers.LeakyReLU()\r\n",
        "\r\n",
        "  def call(self , x):\r\n",
        "    x = self.lrelu(self.conv1(x))\r\n",
        "    x = self.lrelu(self.conv2(x))\r\n",
        "    x = self.downsample(x)\r\n",
        "    return x"
      ],
      "execution_count": 20,
      "outputs": []
    },
    {
      "cell_type": "code",
      "metadata": {
        "id": "3p45Z4cemMY5"
      },
      "source": [
        "middle_layer = Middle_layer(64)"
      ],
      "execution_count": 21,
      "outputs": []
    },
    {
      "cell_type": "code",
      "metadata": {
        "colab": {
          "base_uri": "https://localhost:8080/"
        },
        "id": "w3Qqux5ym2fv",
        "outputId": "473a97f7-b89f-43c5-b201-050d73874fea"
      },
      "source": [
        "d = middle_layer(d)\r\n",
        "d.shape"
      ],
      "execution_count": 22,
      "outputs": [
        {
          "output_type": "execute_result",
          "data": {
            "text/plain": [
              "TensorShape([1, 256, 256, 64])"
            ]
          },
          "metadata": {
            "tags": []
          },
          "execution_count": 22
        }
      ]
    },
    {
      "cell_type": "code",
      "metadata": {
        "id": "oypespFzm60O"
      },
      "source": [
        "class Discriminator(tf.keras.layers.Layer):\r\n",
        "  def __init__(self , start_filters):\r\n",
        "    super(Discriminator , self).__init__()\r\n",
        "    \r\n",
        "    self.first_layer = First_layer(start_filters)\r\n",
        "    n_filters = start_filters * 2\r\n",
        "    self.middle_layer1 = Middle_layer(n_filters)\r\n",
        "    n_filters = n_filters * 2\r\n",
        "    self.middle_layer2 = Middle_layer(n_filters)\r\n",
        "    n_filters = n_filters * 2\r\n",
        "    self.middle_layer3 = Middle_layer(n_filters)\r\n",
        "    n_filters = n_filters * 2\r\n",
        "    self.middle_layer4 = Middle_layer(n_filters)\r\n",
        "    n_filters = n_filters * 2\r\n",
        "    self.middle_layer5 = Middle_layer(n_filters)\r\n",
        "    self.middle_layer6 = Middle_layer(n_filters)\r\n",
        "    self.middle_layer7 = Middle_layer(n_filters)\r\n",
        "    self.middle_layer8 = Middle_layer(n_filters)\r\n",
        "\r\n",
        "    self.second_last = tf.keras.layers.Conv2D(n_filters , (3 , 3) , strides=(1 , 1) , padding='same')\r\n",
        "    self.last = tf.keras.layers.Conv2D(n_filters , (4 , 4) , strides=(2 , 2))\r\n",
        "\r\n",
        "    self.flatten = tf.keras.layers.Flatten()\r\n",
        "    self.linear1 = tf.keras.layers.Dense(n_filters , activation=tf.keras.activations.relu)\r\n",
        "    self.linear2 = tf.keras.layers.Dense(1)\r\n",
        "    \r\n",
        "     \r\n",
        "  def call(self , x):\r\n",
        "    x = self.first_layer(x)\r\n",
        "    x = self.middle_layer1(x)\r\n",
        "    x = self.middle_layer2(x)\r\n",
        "    x = self.middle_layer3(x)\r\n",
        "    x = self.middle_layer4(x)\r\n",
        "    x = self.middle_layer5(x)\r\n",
        "    x = self.middle_layer6(x)\r\n",
        "    x = self.middle_layer7(x)\r\n",
        "    x = self.middle_layer8(x)\r\n",
        "    x = self.second_last(x)\r\n",
        "    x = self.last(x)\r\n",
        "    x = self.flatten(x)\r\n",
        "    x = self.linear1(x)\r\n",
        "    x = self.linear2(x)\r\n",
        "    return x"
      ],
      "execution_count": 80,
      "outputs": []
    },
    {
      "cell_type": "code",
      "metadata": {
        "id": "NgpBfajMoXzo"
      },
      "source": [
        "disc = Discriminator(16)"
      ],
      "execution_count": 81,
      "outputs": []
    },
    {
      "cell_type": "code",
      "metadata": {
        "id": "MKplxXy6ofEI"
      },
      "source": [
        "m = disc(img)"
      ],
      "execution_count": 82,
      "outputs": []
    },
    {
      "cell_type": "code",
      "metadata": {
        "colab": {
          "base_uri": "https://localhost:8080/"
        },
        "id": "mfU8cIv-oh2f",
        "outputId": "628f1331-2034-4a12-e3f8-120d9e1d80b2"
      },
      "source": [
        "m.shape"
      ],
      "execution_count": 83,
      "outputs": [
        {
          "output_type": "execute_result",
          "data": {
            "text/plain": [
              "TensorShape([1, 1])"
            ]
          },
          "metadata": {
            "tags": []
          },
          "execution_count": 83
        }
      ]
    }
  ]
}